{
 "cells": [
  {
   "cell_type": "markdown",
   "metadata": {},
   "source": [
    "# Jupyter Notebook\n",
    "Se invoca con:\n",
    "~~~ bash\n",
    "jupyter notebook\n",
    "~~~\n",
    "Para ver como manejarlo id al menú: \"Help\" => \"User interface tour\""
   ]
  },
  {
   "cell_type": "code",
   "execution_count": null,
   "metadata": {},
   "outputs": [],
   "source": [
    "print('Hola mundo!!! Funciona igual, pero en una casilla de código.')"
   ]
  },
  {
   "cell_type": "markdown",
   "metadata": {},
   "source": [
    "## Markdown\n",
    "Esta es una casilla de __*`MarkDown`*__\n",
    "\n",
    "Una lista:\n",
    "\n",
    "* Uno.\n",
    "* Dos.\n",
    "* Tres.\n",
    "    * Tres. Uno.\n",
    "    * Tres. Dos.\n",
    "    * Tres. Tres.\n",
    "\n",
    "Lista numerada:\n",
    "1. Uno\n",
    "2. Dos\n",
    "1. ...\n",
    "\n",
    "Ejemplo de:\n",
    "* *Cursiva*\n",
    "* **Negrita**\n",
    "* ~~Tachado~~\n",
    "* `Código fuente`\n",
    "\n",
    "Enlaces: [Chuleta de Markdown](https://github.com/adam-p/markdown-here/wiki/Markdown-Cheatsheet)\n",
    "\n",
    "Tablas:\n",
    "\n",
    "Columna 1 | Columna 2 | Columna 3\n",
    "--- | --- | ---\n",
    "*Sigue* | `funcionando` | **bien**\n",
    "1 | 2 | 3\n",
    "\n",
    "etc, etc"
   ]
  },
  {
   "cell_type": "code",
   "execution_count": null,
   "metadata": {},
   "outputs": [],
   "source": [
    "2 / 3"
   ]
  },
  {
   "cell_type": "code",
   "execution_count": null,
   "metadata": {},
   "outputs": [],
   "source": [
    "2 + 3 # :)"
   ]
  },
  {
   "cell_type": "code",
   "execution_count": null,
   "metadata": {
    "scrolled": true
   },
   "outputs": [],
   "source": [
    "2**65535"
   ]
  },
  {
   "cell_type": "code",
   "execution_count": null,
   "metadata": {
    "collapsed": true
   },
   "outputs": [],
   "source": [
    "# Comentario, esto no se ejecuta, solo documenta"
   ]
  },
  {
   "cell_type": "markdown",
   "metadata": {},
   "source": [
    "## Variables"
   ]
  },
  {
   "cell_type": "code",
   "execution_count": null,
   "metadata": {
    "collapsed": true
   },
   "outputs": [],
   "source": [
    "x = 1"
   ]
  },
  {
   "cell_type": "code",
   "execution_count": null,
   "metadata": {},
   "outputs": [],
   "source": [
    "x"
   ]
  },
  {
   "cell_type": "code",
   "execution_count": null,
   "metadata": {},
   "outputs": [],
   "source": [
    "x = 2\n",
    "y = x + 1\n",
    "z = y +1\n",
    "print(x, y, z)"
   ]
  },
  {
   "cell_type": "code",
   "execution_count": null,
   "metadata": {},
   "outputs": [],
   "source": [
    "x = x + 1\n",
    "x"
   ]
  },
  {
   "cell_type": "code",
   "execution_count": null,
   "metadata": {},
   "outputs": [],
   "source": [
    "x, y = 'Hola', 'mundo'\n",
    "print(x, y)"
   ]
  },
  {
   "cell_type": "code",
   "execution_count": null,
   "metadata": {},
   "outputs": [],
   "source": [
    "x, y = y, x\n",
    "print(x, y)"
   ]
  },
  {
   "cell_type": "markdown",
   "metadata": {},
   "source": [
    "# Condiciones"
   ]
  },
  {
   "cell_type": "code",
   "execution_count": null,
   "metadata": {},
   "outputs": [],
   "source": [
    "x == 1"
   ]
  },
  {
   "cell_type": "code",
   "execution_count": null,
   "metadata": {},
   "outputs": [],
   "source": [
    "x == 'mundo'"
   ]
  },
  {
   "cell_type": "code",
   "execution_count": null,
   "metadata": {},
   "outputs": [],
   "source": [
    "if 1 != 2:\n",
    "    print('Las matemáticas siguen funcionando')\n",
    "    print('uno es distinto de dos')\n",
    "    \n",
    "    "
   ]
  },
  {
   "cell_type": "code",
   "execution_count": null,
   "metadata": {},
   "outputs": [],
   "source": [
    "if 1 != 1:\n",
    "    print('El mundo al reves')\n",
    "else:\n",
    "    print('Las matemáticas aún siguen funcionando')"
   ]
  },
  {
   "cell_type": "code",
   "execution_count": null,
   "metadata": {},
   "outputs": [],
   "source": [
    "if 'churras' == 'merinas':\n",
    "    print('Mal')\n",
    "elif 'allos' == 'cebolas':\n",
    "    print('Peor')\n",
    "elif 'digo' == 'Diego':\n",
    "    print('Nope')\n",
    "else:\n",
    "    print('Todo era falso, me fuí por el else')"
   ]
  },
  {
   "cell_type": "code",
   "execution_count": null,
   "metadata": {},
   "outputs": [],
   "source": [
    "fuel = 100\n",
    "\n",
    "if fuel == 0:\n",
    "    print ('Depósito vacio')\n",
    "elif 0 <= fuel < 10:\n",
    "    print ('Depósito en la reserva, con menos del 10%')\n",
    "elif 10 <= fuel < 40:\n",
    "    print ('Depósito bajo')\n",
    "elif 40 <= fuel < 70:\n",
    "    print ('Depósito mediado')\n",
    "elif 70 <= fuel <= 100:\n",
    "    print ('Depósito lleno')\n",
    "elif 0 <= fuel < 10:\n",
    "    print ('No debería de pasar por aquí, ya se descartó antes')\n",
    "else:\n",
    "    print ('Lectura del depósito con porcentaje erróneo')"
   ]
  },
  {
   "cell_type": "markdown",
   "metadata": {},
   "source": [
    "# Listas"
   ]
  },
  {
   "cell_type": "code",
   "execution_count": null,
   "metadata": {},
   "outputs": [],
   "source": [
    "compra = ['atun', 'bonito', 'caramelos', 'dentifrico', 'esponja']\n",
    "type(compra)"
   ]
  },
  {
   "cell_type": "code",
   "execution_count": null,
   "metadata": {},
   "outputs": [],
   "source": [
    "compra[0]"
   ]
  },
  {
   "cell_type": "code",
   "execution_count": null,
   "metadata": {},
   "outputs": [],
   "source": [
    "compra.append('gelatina')\n",
    "compra"
   ]
  },
  {
   "cell_type": "code",
   "execution_count": null,
   "metadata": {},
   "outputs": [],
   "source": [
    "'gelatina' in compra"
   ]
  },
  {
   "cell_type": "code",
   "execution_count": null,
   "metadata": {},
   "outputs": [],
   "source": [
    "# Ver operaciones con Tab detras del \".\" Para ver que hacen cada operación (método) Shift+Tab tras su nombre\n",
    "compra."
   ]
  },
  {
   "cell_type": "code",
   "execution_count": null,
   "metadata": {},
   "outputs": [],
   "source": [
    "compra"
   ]
  },
  {
   "cell_type": "code",
   "execution_count": null,
   "metadata": {},
   "outputs": [],
   "source": [
    "x = [0, 'uno', 2.0, 33, compra]\n",
    "type(x)"
   ]
  },
  {
   "cell_type": "code",
   "execution_count": null,
   "metadata": {},
   "outputs": [],
   "source": [
    "x[1]"
   ]
  },
  {
   "cell_type": "code",
   "execution_count": null,
   "metadata": {},
   "outputs": [],
   "source": [
    "x[4][0]"
   ]
  },
  {
   "cell_type": "markdown",
   "metadata": {},
   "source": [
    "# Bucles"
   ]
  },
  {
   "cell_type": "code",
   "execution_count": null,
   "metadata": {
    "collapsed": true
   },
   "outputs": [],
   "source": [
    "dias_de_la_semana = ['Lunes', 'Martes', \n",
    "                     'Miércoles', 'Jueves', \n",
    "                     'Viernes', 'Sábado', 'Domingo']"
   ]
  },
  {
   "cell_type": "code",
   "execution_count": null,
   "metadata": {},
   "outputs": [],
   "source": [
    "dia = dias_de_la_semana[4]\n",
    "print('Quinto puesto: {}'.format(dia))"
   ]
  },
  {
   "cell_type": "code",
   "execution_count": null,
   "metadata": {},
   "outputs": [],
   "source": [
    "for dia in dias_de_la_semana:\n",
    "    print(\"¿Mañana es {}?\".format(dia))"
   ]
  },
  {
   "cell_type": "markdown",
   "metadata": {
    "collapsed": true
   },
   "source": [
    "# La Tortuga"
   ]
  },
  {
   "cell_type": "code",
   "execution_count": null,
   "metadata": {
    "collapsed": true
   },
   "outputs": [],
   "source": [
    "import turtle\n",
    "t = turtle"
   ]
  },
  {
   "cell_type": "code",
   "execution_count": null,
   "metadata": {
    "collapsed": true
   },
   "outputs": [],
   "source": [
    "t.forward(100)"
   ]
  },
  {
   "cell_type": "markdown",
   "metadata": {},
   "source": [
    "Method | Parameters | Description\n",
    "--- | --- | ---\n",
    "Turtle | None | Creates and returns a new turtle object\n",
    "forward | distance | Moves the turtle forward\n",
    "backward | distance | Moves the turle backward\n",
    "right | angle | Turns the turtle clockwise\n",
    "left | angle | Turns the turtle counter clockwise\n",
    "up | None | Picks up the turtles tail\n",
    "down | None | Puts down the turtles tail\n",
    "color | color name | Changes the color of the turtle’s tail\n",
    "fillcolor | color name | Changes the color of the turtle will use to fill a polygon\n",
    "heading | None | Returns the current heading\n",
    "position | None | Returns the current position\n",
    "goto | x,y | Move the turtle to position x,y\n",
    "begin_fill | None | Remember the starting point for a filled polygon\n",
    "end_fill | None | Close the polygon and fill with the current fill color\n",
    "dot | None | Leave a dot at the current position\n",
    "stamp | None | Leaves an impression of a turtle shape at the current location\n",
    "shape | shapename | Should be ‘arrow’, ‘classic’, ‘turtle’, or ‘circle’"
   ]
  },
  {
   "cell_type": "code",
   "execution_count": null,
   "metadata": {
    "collapsed": true
   },
   "outputs": [],
   "source": [
    "t.clearscreen()"
   ]
  },
  {
   "cell_type": "code",
   "execution_count": null,
   "metadata": {
    "collapsed": true
   },
   "outputs": [],
   "source": [
    "t.forward(100)\n",
    "t.left(120)\n",
    "t.forward(100)\n",
    "t.left(120)\n",
    "t.forward(100)\n",
    "t.left(120)"
   ]
  },
  {
   "cell_type": "code",
   "execution_count": null,
   "metadata": {
    "collapsed": true
   },
   "outputs": [],
   "source": [
    "t.clearscreen()"
   ]
  },
  {
   "cell_type": "code",
   "execution_count": null,
   "metadata": {},
   "outputs": [],
   "source": [
    "for vez in [0, 1, 2, 3]:\n",
    "    print(vez)\n",
    "    t.forward(100)\n",
    "    t.left(90)"
   ]
  },
  {
   "cell_type": "code",
   "execution_count": null,
   "metadata": {
    "collapsed": true
   },
   "outputs": [],
   "source": [
    "t.clearscreen()"
   ]
  },
  {
   "cell_type": "code",
   "execution_count": null,
   "metadata": {},
   "outputs": [],
   "source": [
    "for vez in range(4):\n",
    "    print(vez)\n",
    "    t.forward(100)\n",
    "    t.left(90)"
   ]
  },
  {
   "cell_type": "markdown",
   "metadata": {},
   "source": [
    "# Funciones"
   ]
  },
  {
   "cell_type": "code",
   "execution_count": null,
   "metadata": {
    "collapsed": true
   },
   "outputs": [],
   "source": [
    "def mi_funcion():\n",
    "    print('Soy una función')"
   ]
  },
  {
   "cell_type": "code",
   "execution_count": null,
   "metadata": {},
   "outputs": [],
   "source": [
    "mi_funcion"
   ]
  },
  {
   "cell_type": "code",
   "execution_count": null,
   "metadata": {},
   "outputs": [],
   "source": [
    "mi_funcion()"
   ]
  },
  {
   "cell_type": "code",
   "execution_count": null,
   "metadata": {},
   "outputs": [],
   "source": [
    "def suma(a, b):\n",
    "    return a + b\n",
    "\n",
    "suma(2, 3)"
   ]
  },
  {
   "cell_type": "code",
   "execution_count": null,
   "metadata": {
    "collapsed": true
   },
   "outputs": [],
   "source": [
    "def pinta_cuadrado():\n",
    "    for vez in range(4):\n",
    "        print(vez)\n",
    "        t.forward(100)\n",
    "        t.left(90)"
   ]
  },
  {
   "cell_type": "code",
   "execution_count": null,
   "metadata": {},
   "outputs": [],
   "source": [
    "t.clearscreen()\n",
    "\n",
    "pinta_cuadrado()\n",
    "t.left(180)\n",
    "pinta_cuadrado()"
   ]
  },
  {
   "cell_type": "code",
   "execution_count": null,
   "metadata": {
    "collapsed": true
   },
   "outputs": [],
   "source": [
    "def poligono(lados):\n",
    "    for vez in range(lados):\n",
    "        t.forward(100)\n",
    "        t.left(360/lados)\n",
    "\n",
    "t.clearscreen()\n",
    "poligono(5)"
   ]
  },
  {
   "cell_type": "code",
   "execution_count": null,
   "metadata": {
    "collapsed": true
   },
   "outputs": [],
   "source": [
    "def poligono(lados, longitud, color):\n",
    "    t.color(color)\n",
    "    for vez in range(lados):\n",
    "        t.forward(longitud)\n",
    "        t.left(360/lados)"
   ]
  },
  {
   "cell_type": "code",
   "execution_count": null,
   "metadata": {
    "scrolled": true
   },
   "outputs": [],
   "source": [
    "t.clearscreen()\n",
    "\n",
    "t.speed(5)\n",
    "colores = ['red', 'green', 'blue', 'purple']\n",
    "for x in range(3,7):\n",
    "    poligono(x, 100, colores[x - 3])\n"
   ]
  },
  {
   "cell_type": "code",
   "execution_count": null,
   "metadata": {
    "collapsed": true
   },
   "outputs": [],
   "source": [
    "t.clearscreen()\n",
    "\n",
    "t.speed(10)\n",
    "t.color('red', 'yellow')\n",
    "t.begin_fill()\n",
    "for x in range(36):\n",
    "    t.forward(200)\n",
    "    t.stamp()\n",
    "    t.left(170)\n",
    "t.end_fill()\n",
    "t.hideturtle()"
   ]
  },
  {
   "cell_type": "code",
   "execution_count": null,
   "metadata": {
    "collapsed": true
   },
   "outputs": [],
   "source": [
    "t.clearscreen()\n",
    "\n",
    "tamanho = 20\n",
    "\n",
    "t.color('blue')\n",
    "t.shape('turtle')\n",
    "\n",
    "t.speed(0)\n",
    "t.up()\n",
    "for i in range(30):\n",
    "    tamanho = tamanho + 2\n",
    "    t.forward(tamanho)\n",
    "    t.right(24)\n",
    "    t.stamp()\n"
   ]
  },
  {
   "cell_type": "code",
   "execution_count": null,
   "metadata": {
    "collapsed": true
   },
   "outputs": [],
   "source": [
    "t.clearscreen()\n",
    "\n",
    "formas = ['arrow', 'turtle', 'circle', 'square', 'triangle', 'classic']\n",
    "colores = ['orange', 'green', 'blue', 'purple', 'yellow']\n",
    "tamanho = 20\n",
    "\n",
    "t.speed(0)\n",
    "t.up()\n",
    "for i in range(30):\n",
    "    t.shape(formas[i % 6])\n",
    "    t.color(colores[i % 5])\n",
    "    tamanho = tamanho + 2\n",
    "    t.forward(tamanho)\n",
    "    t.left(24)\n",
    "    t.stamp()\n"
   ]
  },
  {
   "cell_type": "code",
   "execution_count": null,
   "metadata": {
    "collapsed": true
   },
   "outputs": [],
   "source": [
    "# Arbol\n",
    "\n",
    "detail = 12  # decrease for more branches\n",
    "length = 80  # increase for larger tree\n",
    "thickness = 20  # vary to see effect\n",
    "angle = 20  # vary to see effect\n",
    "\n",
    "t.clearscreen()\n",
    "t.speed(0)  # 1=slow, 10=fast, 0=fastest\n",
    "t.left(90)\n",
    "\n",
    "\n",
    "def draw_tree(branch_thickness, branch_length):\n",
    "    if branch_length > 5:\n",
    "        if branch_length < 20:\n",
    "            t.color(\"green\")\n",
    "        else:\n",
    "            t.color(\"brown\")\n",
    "        t.pensize(branch_thickness)\n",
    "        t.forward(branch_length)\n",
    "        t.right(angle)\n",
    "        draw_tree(branch_thickness / 1.5, branch_length - detail)\n",
    "        t.left(2 * angle)\n",
    "        draw_tree(branch_thickness / 1.5, branch_length - detail)\n",
    "        t.right(angle)\n",
    "        t.back(branch_length)\n",
    "        t.color(\"brown\")\n",
    "\n",
    "draw_tree(thickness, length)"
   ]
  },
  {
   "cell_type": "code",
   "execution_count": null,
   "metadata": {
    "collapsed": true
   },
   "outputs": [],
   "source": [
    "turtle.bye()"
   ]
  },
  {
   "cell_type": "code",
   "execution_count": null,
   "metadata": {},
   "outputs": [],
   "source": [
    "datos = [1, 0.2, 1+2j, \n",
    "         True, False, \n",
    "         'Hola', \"Hola2\", \"\"\"Multi\n",
    "                             linea\"\"\",\n",
    "         ['Una', 'lista'], ('Una', 'tupla')]\n",
    "for dato in datos:\n",
    "    print(\"{}   \\t {}\".format(type(dato), dato))"
   ]
  }
 ],
 "metadata": {
  "kernelspec": {
   "display_name": "Python 3",
   "language": "python",
   "name": "python3"
  },
  "language_info": {
   "codemirror_mode": {
    "name": "ipython",
    "version": 3
   },
   "file_extension": ".py",
   "mimetype": "text/x-python",
   "name": "python",
   "nbconvert_exporter": "python",
   "pygments_lexer": "ipython3",
   "version": "3.5.2"
  }
 },
 "nbformat": 4,
 "nbformat_minor": 2
}
